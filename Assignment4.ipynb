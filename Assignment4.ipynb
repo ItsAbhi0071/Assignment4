{
 "cells": [
  {
   "cell_type": "code",
   "execution_count": 3,
   "id": "08e79c4f-6135-498f-9091-e82bed393c8a",
   "metadata": {},
   "outputs": [
    {
     "name": "stdout",
     "output_type": "stream",
     "text": [
      "'def' is the keyword\n"
     ]
    },
    {
     "data": {
      "text/plain": [
       "[1, 3, 5, 7, 9, 11, 13, 15, 17, 19, 21, 23, 25]"
      ]
     },
     "execution_count": 3,
     "metadata": {},
     "output_type": "execute_result"
    }
   ],
   "source": [
    "#qus1\n",
    "print(\"'def' is the keyword\")\n",
    "l=[i for i in range(1,26) if i%2!=0]  \n",
    "l"
   ]
  },
  {
   "cell_type": "code",
   "execution_count": 8,
   "id": "8bdcedc5-0e90-4db5-8f15-2aa42462363e",
   "metadata": {},
   "outputs": [],
   "source": [
    "#qus1\n",
    "def odd_num(a):\n",
    "    l=[]\n",
    "    if type(a)==list:\n",
    "        for i in a:\n",
    "            if i%2!=0:\n",
    "                l.append(i)\n",
    "    return l"
   ]
  },
  {
   "cell_type": "code",
   "execution_count": 9,
   "id": "00c48214-492d-430f-9ff5-57212588784f",
   "metadata": {},
   "outputs": [
    {
     "data": {
      "text/plain": [
       "[1, 3, 5, 7, 9, 11, 13, 15, 17, 19, 21, 23, 25]"
      ]
     },
     "execution_count": 9,
     "metadata": {},
     "output_type": "execute_result"
    }
   ],
   "source": [
    "#qus1\n",
    "l=[i for i in range (1,26)]\n",
    "odd_num(l)"
   ]
  },
  {
   "cell_type": "code",
   "execution_count": 10,
   "id": "5e73c763-e0af-474a-a31b-784a337a9cf8",
   "metadata": {},
   "outputs": [
    {
     "name": "stdout",
     "output_type": "stream",
     "text": [
      "We use *args and **kwargs as an argument when we are unsure about the number of arguments to pass in the functions.\n"
     ]
    }
   ],
   "source": [
    "#qus2\n",
    "print(\"We use *args and **kwargs as an argument when we are unsure about the number of arguments to pass in the functions.\")"
   ]
  },
  {
   "cell_type": "code",
   "execution_count": 11,
   "id": "8596642f-919f-41ba-ae43-8f0897133637",
   "metadata": {},
   "outputs": [
    {
     "data": {
      "text/plain": [
       "(1, 2, 3, 4, 5, 'a', 'b', 'c', 'd', 1.1, 2.34, 3.46, 6, 78)"
      ]
     },
     "execution_count": 11,
     "metadata": {},
     "output_type": "execute_result"
    }
   ],
   "source": [
    "#qus2\n",
    "def test(*sal):\n",
    "    return sal\n",
    "test(1,2,3,4,5,\"a\",\"b\",\"c\",\"d\",1.1,2.34,3.46,6,78)"
   ]
  },
  {
   "cell_type": "code",
   "execution_count": 12,
   "id": "4fc98a43-a873-4149-b812-471ca91ddf89",
   "metadata": {},
   "outputs": [
    {
     "data": {
      "text/plain": [
       "{'a': [1, 2, 3, 4], 'b': 'sudh', 'c': 23.45}"
      ]
     },
     "execution_count": 12,
     "metadata": {},
     "output_type": "execute_result"
    }
   ],
   "source": [
    "#qus2\n",
    "def test1 (**sal):\n",
    "    return sal\n",
    "test1(a=[1,2,3,4],b=\"sudh\",c=23.45)"
   ]
  },
  {
   "cell_type": "code",
   "execution_count": 13,
   "id": "224b7201-8a24-4abe-90e1-ec4dc1817f25",
   "metadata": {},
   "outputs": [
    {
     "name": "stdout",
     "output_type": "stream",
     "text": [
      "An iterator is an object that can be iterated upon, meaning that you can traverse through all the values\n",
      "'iter()' is used to convert iterable into iterator\n"
     ]
    }
   ],
   "source": [
    "#qus3\n",
    "print('An iterator is an object that can be iterated upon, meaning that you can traverse through all the values')\n",
    "print(\"'iter()' is used to convert iterable into iterator\")"
   ]
  },
  {
   "cell_type": "code",
   "execution_count": 14,
   "id": "8431872c-6e4b-4022-846b-443ed146cf29",
   "metadata": {},
   "outputs": [
    {
     "ename": "TypeError",
     "evalue": "'list' object is not an iterator",
     "output_type": "error",
     "traceback": [
      "\u001b[0;31m---------------------------------------------------------------------------\u001b[0m",
      "\u001b[0;31mTypeError\u001b[0m                                 Traceback (most recent call last)",
      "Cell \u001b[0;32mIn [14], line 3\u001b[0m\n\u001b[1;32m      1\u001b[0m \u001b[38;5;66;03m#qus3\u001b[39;00m\n\u001b[1;32m      2\u001b[0m l\u001b[38;5;241m=\u001b[39m[\u001b[38;5;241m2\u001b[39m,\u001b[38;5;241m4\u001b[39m,\u001b[38;5;241m6\u001b[39m,\u001b[38;5;241m8\u001b[39m,\u001b[38;5;241m10\u001b[39m,\u001b[38;5;241m12\u001b[39m,\u001b[38;5;241m14\u001b[39m,\u001b[38;5;241m16\u001b[39m,\u001b[38;5;241m18\u001b[39m,\u001b[38;5;241m20\u001b[39m]\n\u001b[0;32m----> 3\u001b[0m \u001b[38;5;28;43mnext\u001b[39;49m\u001b[43m(\u001b[49m\u001b[43ml\u001b[49m\u001b[43m)\u001b[49m\n",
      "\u001b[0;31mTypeError\u001b[0m: 'list' object is not an iterator"
     ]
    }
   ],
   "source": [
    "#qus3\n",
    "l=[2,4,6,8,10,12,14,16,18,20]\n",
    "next(l)"
   ]
  },
  {
   "cell_type": "code",
   "execution_count": 37,
   "id": "5c04db09-0853-413d-917d-a90f2e9c0053",
   "metadata": {},
   "outputs": [
    {
     "name": "stdout",
     "output_type": "stream",
     "text": [
      "2\n",
      "3\n",
      "5\n",
      "7\n",
      "11\n"
     ]
    }
   ],
   "source": [
    "#qus3\n",
    "l1=iter(l)\n",
    "print(next(l1))\n",
    "print(next(l1))\n",
    "print(next(l1))\n",
    "print(next(l1))\n",
    "print(next(l1))"
   ]
  },
  {
   "cell_type": "code",
   "execution_count": 38,
   "id": "5ddf7052-5004-4876-8828-13cd8dbf686a",
   "metadata": {},
   "outputs": [
    {
     "name": "stdout",
     "output_type": "stream",
     "text": [
      "Generator function is a function that returns an iterator that produces a sequence of values when iterated over. \n",
      "Generators are useful when we want to produce a large sequence of values, \n",
      "but we don't want to store all of them in memory at once.\n",
      "yield keyword is used to create a generator function\n"
     ]
    }
   ],
   "source": [
    "# qus4\n",
    "print('''Generator function is a function that returns an iterator that produces a sequence of values when iterated over. \n",
    "Generators are useful when we want to produce a large sequence of values, \n",
    "but we don't want to store all of them in memory at once.''')\n",
    "print(\"yield keyword is used to create a generator function\")"
   ]
  },
  {
   "cell_type": "code",
   "execution_count": 39,
   "id": "ad4e0677-ad07-4252-8f62-8ffed77a2cb5",
   "metadata": {},
   "outputs": [],
   "source": [
    "#qus4\n",
    "def count_test(n):\n",
    "    count=1\n",
    "    while count < n:\n",
    "        yield count\n",
    "        count=count+1"
   ]
  },
  {
   "cell_type": "code",
   "execution_count": 40,
   "id": "a7e2ef6f-2eb8-452e-8920-d4d3b23aa10d",
   "metadata": {},
   "outputs": [
    {
     "name": "stdout",
     "output_type": "stream",
     "text": [
      "1\n",
      "2\n",
      "3\n",
      "4\n"
     ]
    }
   ],
   "source": [
    "#qus4\n",
    "c=count_test(5)\n",
    "for i in c:\n",
    "    print(i)"
   ]
  },
  {
   "cell_type": "code",
   "execution_count": 41,
   "id": "0ea163ae-2dfd-47f5-9a73-a7efb17395af",
   "metadata": {},
   "outputs": [
    {
     "name": "stdout",
     "output_type": "stream",
     "text": [
      "[2, 3, 5, 7, 11, 13, 17, 19, 23, 29, 31, 37, 41, 43, 47, 53, 59, 61, 67, 71, 73, 79, 83, 89, 97, 101, 103, 107, 109, 113, 127, 131, 137, 139, 149, 151, 157, 163, 167, 173, 179, 181, 191, 193, 197, 199, 211, 223, 227, 229, 233, 239, 241, 251, 257, 263, 269, 271, 277, 281, 283, 293, 307, 311, 313, 317, 331, 337, 347, 349, 353, 359, 367, 373, 379, 383, 389, 397, 401, 409, 419, 421, 431, 433, 439, 443, 449, 457, 461, 463, 467, 479, 487, 491, 499, 503, 509, 521, 523, 541, 547, 557, 563, 569, 571, 577, 587, 593, 599, 601, 607, 613, 617, 619, 631, 641, 643, 647, 653, 659, 661, 673, 677, 683, 691, 701, 709, 719, 727, 733, 739, 743, 751, 757, 761, 769, 773, 787, 797, 809, 811, 821, 823, 827, 829, 839, 853, 857, 859, 863, 877, 881, 883, 887, 907, 911, 919, 929, 937, 941, 947, 953, 967, 971, 977, 983, 991, 997]\n"
     ]
    }
   ],
   "source": [
    "#qus5\n",
    "l=[]\n",
    "for i in range (1,1001):\n",
    "    count=0\n",
    "    for j in range (2,(i//2+1)):\n",
    "        if i%j==0:\n",
    "            count+=1\n",
    "            break\n",
    "    if count==0 and i!=1:\n",
    "        l.append(i)\n",
    "print(l)"
   ]
  },
  {
   "cell_type": "code",
   "execution_count": 43,
   "id": "0b07e3cd-367b-4059-93f7-e79e1b8f3111",
   "metadata": {},
   "outputs": [
    {
     "name": "stdout",
     "output_type": "stream",
     "text": [
      "2\n",
      "3\n",
      "5\n",
      "7\n",
      "11\n",
      "13\n",
      "17\n",
      "19\n",
      "23\n",
      "29\n",
      "31\n",
      "37\n",
      "41\n",
      "43\n",
      "47\n",
      "53\n",
      "59\n",
      "61\n",
      "67\n",
      "71\n"
     ]
    }
   ],
   "source": [
    "#qus5\n",
    "l1=iter(l)\n",
    "for i in range(1,21):\n",
    "    print(next(l1))"
   ]
  },
  {
   "cell_type": "code",
   "execution_count": 44,
   "id": "7ecd2d04-e3f3-42a7-8203-3bea8328f41d",
   "metadata": {},
   "outputs": [
    {
     "name": "stdout",
     "output_type": "stream",
     "text": [
      "0\n",
      "1\n",
      "1\n",
      "2\n",
      "3\n",
      "5\n",
      "8\n",
      "13\n",
      "21\n",
      "34\n"
     ]
    }
   ],
   "source": [
    "#qus6\n",
    "i=0\n",
    "a,b=0,1\n",
    "while i<10:\n",
    "    print(a)\n",
    "    c=a+b\n",
    "    a=b\n",
    "    b=c\n",
    "    i+=1"
   ]
  },
  {
   "cell_type": "code",
   "execution_count": 1,
   "id": "f7523a73-722b-48aa-af91-82fa5c2d77f7",
   "metadata": {},
   "outputs": [
    {
     "data": {
      "text/plain": [
       "['p', 'w', 's', 'k', 'i', 'l', 'l', 's']"
      ]
     },
     "execution_count": 1,
     "metadata": {},
     "output_type": "execute_result"
    }
   ],
   "source": [
    "#qus7\n",
    "s=\"pwskills\"\n",
    "list(s)"
   ]
  },
  {
   "cell_type": "code",
   "execution_count": 6,
   "id": "36b765ee-26ac-4be2-97ec-04a3f5e4e689",
   "metadata": {},
   "outputs": [
    {
     "data": {
      "text/plain": [
       "['p', 'w', 's', 'k', 'i', 'l', 'l', 's']"
      ]
     },
     "execution_count": 6,
     "metadata": {},
     "output_type": "execute_result"
    }
   ],
   "source": [
    "#qus7\n",
    "[s[i-1:i] for i in range (1,len(s)+1)]"
   ]
  },
  {
   "cell_type": "code",
   "execution_count": 7,
   "id": "7e3a3cb1-8ff1-4b65-8d37-d0151f536e03",
   "metadata": {},
   "outputs": [
    {
     "name": "stdin",
     "output_type": "stream",
     "text": [
      "Enter your number :  11\n"
     ]
    },
    {
     "name": "stdout",
     "output_type": "stream",
     "text": [
      "This is palindrome\n"
     ]
    }
   ],
   "source": [
    "#qus8\n",
    "a=input(\"Enter your number : \")\n",
    "while True:\n",
    "    if a[:len(a)+1]==a[::-1]:\n",
    "        print(\"This is palindrome\")\n",
    "        break\n",
    "    else:\n",
    "        print(\"This is not palindrome\")\n",
    "        break"
   ]
  },
  {
   "cell_type": "code",
   "execution_count": 45,
   "id": "45767481-b044-47e5-b564-5f99d243530d",
   "metadata": {},
   "outputs": [
    {
     "data": {
      "text/plain": [
       "[1,\n",
       " 3,\n",
       " 5,\n",
       " 7,\n",
       " 9,\n",
       " 11,\n",
       " 13,\n",
       " 15,\n",
       " 17,\n",
       " 19,\n",
       " 21,\n",
       " 23,\n",
       " 25,\n",
       " 27,\n",
       " 29,\n",
       " 31,\n",
       " 33,\n",
       " 35,\n",
       " 37,\n",
       " 39,\n",
       " 41,\n",
       " 43,\n",
       " 45,\n",
       " 47,\n",
       " 49,\n",
       " 51,\n",
       " 53,\n",
       " 55,\n",
       " 57,\n",
       " 59,\n",
       " 61,\n",
       " 63,\n",
       " 65,\n",
       " 67,\n",
       " 69,\n",
       " 71,\n",
       " 73,\n",
       " 75,\n",
       " 77,\n",
       " 79,\n",
       " 81,\n",
       " 83,\n",
       " 85,\n",
       " 87,\n",
       " 89,\n",
       " 91,\n",
       " 93,\n",
       " 95,\n",
       " 97,\n",
       " 99]"
      ]
     },
     "execution_count": 45,
     "metadata": {},
     "output_type": "execute_result"
    }
   ],
   "source": [
    "#qus9\n",
    "l=[i for i in range(1,101) if i%2!=0]\n",
    "l"
   ]
  },
  {
   "cell_type": "code",
   "execution_count": null,
   "id": "a2f2ee32-5cab-437a-95e5-b9cac6780604",
   "metadata": {},
   "outputs": [],
   "source": []
  },
  {
   "cell_type": "code",
   "execution_count": null,
   "id": "a8ee21ae-e523-4203-865f-efd1e4fa2fc6",
   "metadata": {},
   "outputs": [],
   "source": []
  }
 ],
 "metadata": {
  "kernelspec": {
   "display_name": "Python 3 (ipykernel)",
   "language": "python",
   "name": "python3"
  },
  "language_info": {
   "codemirror_mode": {
    "name": "ipython",
    "version": 3
   },
   "file_extension": ".py",
   "mimetype": "text/x-python",
   "name": "python",
   "nbconvert_exporter": "python",
   "pygments_lexer": "ipython3",
   "version": "3.10.6"
  }
 },
 "nbformat": 4,
 "nbformat_minor": 5
}
